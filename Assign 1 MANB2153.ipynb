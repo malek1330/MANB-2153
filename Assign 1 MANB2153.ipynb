{
 "cells": [
  {
   "cell_type": "markdown",
   "metadata": {},
   "source": [
    "# Abdul Malek MANB171144\n",
    "## List a few definitions of Machine Learning (with reference if possible), and examples of application. Write in paragraphs at Jupyter Notebook.\n",
    "Upload your Jupyter Notebook file at your github."
   ]
  },
  {
   "cell_type": "markdown",
   "metadata": {},
   "source": [
    "Definitions of Machine Learning (3):\n",
    "      \n",
    "      1. Machine Learning is a category of an algorithm that allows software applications to become more accurate in predicting outcomes without being explicitly programmed. The basic tenet of machine learning is building algorithms that can receive input data and use the statistical analysis to predict an output as new data made available (Margaret Rouse, https://searchenterpriseai.techtarget.com/definition/machine-learning-ML, May 2018).\n",
    "      \n",
    "      2. Machine Learning is any technology that uses algorithms to try to create repeatable results. It facilitates the continuous advancement of computing through exposure to new scenarios, testing and adaptation while employing pattern and trend detection for imrpoved decisions in subsequent situations (https://www.techopedia.com/definition/8181/machine-learning.\n",
    "      \n",
    "      3. Machine Learning is a field of study that allow computers learn and adapt to new data without being explicitly programmed (Arthur Samuel, 1959).\n",
    "      \n",
    "      \n",
    "Application of Machine Learning (5):\n",
    "\n",
    "    1. Tesla self driving electric cars for ferrying passengers and food delivery.\n",
    "    2. Virtual assistant technology developed to communicate with target users.\n",
    "    3. Human Resource application of Machine Learning concept in identifying characteristics of effective employees to identify        best applicants for open position.\n",
    "    4. Newsfeed technology used by Facebook to provide users with personalize news and updates based on pattern recognized.\n",
    "    5. Customer Relation Management (CRM) used learning model to analyze email and prompt sales team members to respond to the        most important messages first."
   ]
  }
 ],
 "metadata": {
  "kernelspec": {
   "display_name": "Python 3",
   "language": "python",
   "name": "python3"
  },
  "language_info": {
   "codemirror_mode": {
    "name": "ipython",
    "version": 3
   },
   "file_extension": ".py",
   "mimetype": "text/x-python",
   "name": "python",
   "nbconvert_exporter": "python",
   "pygments_lexer": "ipython3",
   "version": "3.7.1"
  }
 },
 "nbformat": 4,
 "nbformat_minor": 2
}
